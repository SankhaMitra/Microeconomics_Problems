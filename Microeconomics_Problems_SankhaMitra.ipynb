{
 "cells": [
  {
   "cell_type": "code",
   "execution_count": 15,
   "metadata": {},
   "outputs": [
    {
     "name": "stdout",
     "output_type": "stream",
     "text": [
      "[249.99968679  99.99992298]\n"
     ]
    }
   ],
   "source": [
    "# Problems in Microeconomics \n",
    "# Let's solve a few basic problems related to utility maximization concept\n",
    "from scipy.optimize import minimize #since we cannot have the option'maximize', we have to minimize and define the function accordingly\n",
    "import numpy as np\n",
    "def U(x):\n",
    "    return -1.0*(x[0]**0.5)*(x[1]**0.5) #Cobb Douglas Utility Function\n",
    "p1 = 2.0 # assuming price of good 1 to be equal to 2\n",
    "p2 = 5.0 # assuming price of good 2 to be equal to 5\n",
    "m = 1000.0 # assuming income to be equal to 1000\n",
    "from scipy.optimize import LinearConstraint\n",
    "linear_constraint = LinearConstraint([p1,p2],0,m)  \n",
    "from scipy.optimize import Bounds \n",
    "bounds = Bounds([0,0],[m,m]) # One cannot consume more than m units of either consumer good and also not negative amounts\n",
    "x0 = np.array([2,3])\n",
    "result = minimize(U,x0,method = 'trust-constr', constraints = [linear_constraint], bounds = bounds)\n",
    "print(result.x)"
   ]
  },
  {
   "cell_type": "code",
   "execution_count": 2,
   "metadata": {},
   "outputs": [
    {
     "name": "stdout",
     "output_type": "stream",
     "text": [
      "     con: array([], dtype=float64)\n",
      "     fun: -4.999999999381963\n",
      " message: 'Optimization terminated successfully.'\n",
      "     nit: 4\n",
      "   slack: array([8.27814262e-10])\n",
      "  status: 0\n",
      " success: True\n",
      "       x: array([5.00000000e+00, 1.36087209e-10])\n"
     ]
    }
   ],
   "source": [
    "# Let us solve a problem where consumer goods are perfect substitutes\n",
    "from scipy.optimize import linprog # We use linear programming here, since the utility function is a linear transformation\n",
    "import numpy as np\n",
    "a = 1.0\n",
    "b = 1.0\n",
    "p1 = 2.0 # Price of x (denoted by p1) is 2 \n",
    "p2 = 5.0 # Price of y (denoted by p2) is 5\n",
    "m = 10.0 # Income of consumer is 10 \n",
    "c = np.array([[-a,-b]]) # Essentially we take a=b=1 in this problem  where U(x,y) = ax + by, c contains the coefficients\n",
    "A_ub = np.array([[p1,p2]]) \n",
    "b_ub = np.array([m])\n",
    "result = linprog(c,A_ub = A_ub, b_ub = b_ub)\n",
    "print(result)\n",
    "# As we can see, the consumer will buy 5 units of x and 0 units of y (the value displayed for y is approximately equal to 0) "
   ]
  },
  {
   "cell_type": "code",
   "execution_count": 18,
   "metadata": {},
   "outputs": [
    {
     "name": "stdout",
     "output_type": "stream",
     "text": [
      "[ 92.58934556 111.11509329]\n"
     ]
    }
   ],
   "source": [
    "# Intertemporal Optimization Problem (2 period model) \n",
    "# Consumption in second period is discounted by a discount factor and savings of first period is used in second period\n",
    "import numpy as np \n",
    "from scipy.optimize import minimize \n",
    "a = 0.25 # discount factor\n",
    "def U(x):\n",
    "    return -1.0*(np.log(x[0]) + np.log(x[1])/(1 + a))\n",
    "r = 0.5 # rate of interest \n",
    "m1 = 100 # income in period 1\n",
    "m2 = 100 # income in period 2\n",
    "from scipy.optimize import LinearConstraint\n",
    "linear_constraint = LinearConstraint([1,1/(1+r)],0,m1 + m2/(1+r))\n",
    "from scipy.optimize import Bounds\n",
    "bounds = Bounds([0,0],[m1,m1 + m2])\n",
    "x0 = np.array([10,10])\n",
    "result = minimize(U,x0,method = 'trust-constr', constraints = [linear_constraint],bounds = bounds) \n",
    "print(result.x)"
   ]
  },
  {
   "cell_type": "code",
   "execution_count": 1,
   "metadata": {},
   "outputs": [
    {
     "data": {
      "text/latex": [
       "$\\displaystyle \\left\\{\\frac{3}{2}\\right\\}$"
      ],
      "text/plain": [
       "FiniteSet(3/2)"
      ]
     },
     "execution_count": 1,
     "metadata": {},
     "output_type": "execute_result"
    }
   ],
   "source": [
    "# Let us try a single variable optimization process \n",
    "from sympy import *\n",
    "x = symbols(\"x\", real = True)\n",
    "f = x**2 - 3*x + 2\n",
    "from sympy import diff \n",
    "h = diff(f,x)\n",
    "from sympy import solveset \n",
    "z = solveset(Eq(h,0),x)  \n",
    "z\n",
    "#This process gives us stationary points only"
   ]
  },
  {
   "cell_type": "code",
   "execution_count": 8,
   "metadata": {},
   "outputs": [
    {
     "name": "stdout",
     "output_type": "stream",
     "text": [
      "     fun: -0.24999999999999956\n",
      "    nfev: 9\n",
      "     nit: 5\n",
      " success: True\n",
      "       x: 1.4999999999999998\n"
     ]
    }
   ],
   "source": [
    "# Let us try another method for univariate optimization\n",
    "from scipy.optimize import minimize_scalar\n",
    "def f(x):\n",
    "    return x**2 - 3*x + 2\n",
    "result = minimize_scalar(f, method = 'brent')\n",
    "print(result)"
   ]
  },
  {
   "cell_type": "code",
   "execution_count": 11,
   "metadata": {},
   "outputs": [
    {
     "name": "stdout",
     "output_type": "stream",
     "text": [
      "     fun: 2.0000119706121744\n",
      " message: 'Solution found.'\n",
      "    nfev: 27\n",
      "  status: 0\n",
      " success: True\n",
      "       x: 3.0000039901987505\n"
     ]
    }
   ],
   "source": [
    "# We can also find optimum value in a bounded region (i.e., in a specified region of the domain)\n",
    "from scipy.optimize import minimize_scalar \n",
    "def f(x):\n",
    "    return x**2 - 3*x + 2\n",
    "result = minimize_scalar(f, bounds = (3,5), method ='bounded')\n",
    "print(result)"
   ]
  },
  {
   "cell_type": "code",
   "execution_count": 22,
   "metadata": {},
   "outputs": [
    {
     "data": {
      "image/png": "[encoded data removed]",
      "text/plain": [
       "<Figure size 432x288 with 1 Axes>"
      ]
     },
     "metadata": {
      "needs_background": "light"
     },
     "output_type": "display_data"
    }
   ],
   "source": [
    "# Let us verify the above results  \n",
    "import matplotlib.pyplot as plt\n",
    "import numpy as np\n",
    "x = np.linspace(-6.0,6.0, num = 24 )\n",
    "y = f(x)\n",
    "x1 = 1.5\n",
    "x2 = 3.0\n",
    "plt.axvline(x = x1, color = 'r', linestyle = \"--\")\n",
    "plt.axvline(x = x2, color = 'b', linestyle = \"--\")\n",
    "plt.plot(x,y,color = 'g')\n",
    "plt.show()\n",
    "# As is evident, with no bounded region, the function has its minimum value at 1.5 and with a bounded region (3,5), the minimum value is at 3 since function is monotonic in that range "
   ]
  },
  {
   "cell_type": "code",
   "execution_count": 1,
   "metadata": {},
   "outputs": [
    {
     "name": "stdout",
     "output_type": "stream",
     "text": [
      "Price of x?\n",
      "2\n",
      "Price of y?\n",
      "5\n",
      "Income of consumer?\n",
      "500\n",
      "[124.99993677  49.99998483]\n"
     ]
    }
   ],
   "source": [
    "# Problems in Microeconomics \n",
    "## The aim here is to make the work interactive. \n",
    "### Once someone runs this code chunk, she/he would be asked to mention prices of x, y and income \n",
    "#### Given the prices and income, the optimum bundles would be calculated and printed as output\n",
    "# Let's solve a few basic problems related to utility maximization concept\n",
    "from scipy.optimize import minimize #since we cannot have the option'maximize', we have to minimize and define the function accordingly\n",
    "import numpy as np\n",
    "def U(x):\n",
    "    return -1.0*(x[0]**0.5)*(x[1]**0.5) #Cobb Douglas Utility Function\n",
    "price1 = float(input('Price of x?\\n'))\n",
    "price2 = float(input('Price of y?\\n'))\n",
    "income = float(input('Income of consumer?\\n'))\n",
    "p1 = int(price1) # assuming price of good 1 to be equal to 2\n",
    "p2 = int(price2) # assuming price of good 2 to be equal to 5\n",
    "m = int(income)\n",
    "from scipy.optimize import LinearConstraint\n",
    "linear_constraint = LinearConstraint([p1,p2],0,m)  \n",
    "from scipy.optimize import Bounds \n",
    "bounds = Bounds([0,0],[m,m]) # One cannot consume more than m units of either consumer good and also not negative amounts\n",
    "x0 = np.array([2,2])\n",
    "result = minimize(U,x0,method = 'trust-constr', constraints = [linear_constraint], bounds = bounds)\n",
    "print(result.x)"
   ]
  },
  {
   "cell_type": "code",
   "execution_count": 2,
   "metadata": {},
   "outputs": [
    {
     "name": "stdout",
     "output_type": "stream",
     "text": [
      "Discount factor?\n",
      "0.1\n",
      "Rate of interest?\n",
      "0.06\n",
      "Income in period 1?\n",
      "100\n",
      "Income in period 2?\n",
      "200\n",
      "[ 99.99902544 199.999314  ]\n"
     ]
    }
   ],
   "source": [
    "# Intertemporal Optimization Problem (2 period model) \n",
    "## We make the problem interactive again \n",
    "### One has to mention the discount factor, rate of interest, incomes in two time periods\n",
    "#### Given the values, optimum consumption for the two time periods would be calculated \n",
    "# Consumption in second period is discounted by a discount factor and savings of first period is used in second period\n",
    "import numpy as np \n",
    "from scipy.optimize import minimize \n",
    "discount_factor = float(input('Discount factor?\\n'))\n",
    "a = int(discount_factor) \n",
    "def U(x):\n",
    "    return -1.0*(np.log(x[0]) + np.log(x[1])/(1 + a))\n",
    "r_o_i = float(input('Rate of interest?\\n'))\n",
    "income1 = float(input('Income in period 1?\\n'))\n",
    "income2 = float(input('Income in period 2?\\n'))\n",
    "r = int(r_o_i)  \n",
    "m1 = int(income1)\n",
    "m2 = int(income2)\n",
    "from scipy.optimize import LinearConstraint\n",
    "linear_constraint = LinearConstraint([1,1/(1+r)],0,m1 + m2/(1+r))\n",
    "from scipy.optimize import Bounds\n",
    "bounds = Bounds([0,0],[m1,m1 + m2])\n",
    "x0 = np.array([10,10])\n",
    "result = minimize(U,x0,method = 'trust-constr', constraints = [linear_constraint],bounds = bounds) \n",
    "print(result.x)"
   ]
  },
  {
   "cell_type": "code",
   "execution_count": null,
   "metadata": {},
   "outputs": [],
   "source": []
  }
 ],
 "metadata": {
  "kernelspec": {
   "display_name": "Python 3",
   "language": "python",
   "name": "python3"
  },
  "language_info": {
   "codemirror_mode": {
    "name": "ipython",
    "version": 3
   },
   "file_extension": ".py",
   "mimetype": "text/x-python",
   "name": "python",
   "nbconvert_exporter": "python",
   "pygments_lexer": "ipython3",
   "version": "3.8.5"
  }
 },
 "nbformat": 4,
 "nbformat_minor": 4
}
